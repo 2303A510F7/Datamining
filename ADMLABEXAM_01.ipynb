{
  "nbformat": 4,
  "nbformat_minor": 0,
  "metadata": {
    "colab": {
      "provenance": [],
      "authorship_tag": "ABX9TyPIsShCT9x9ydKF+tF8Ed5d",
      "include_colab_link": true
    },
    "kernelspec": {
      "name": "python3",
      "display_name": "Python 3"
    },
    "language_info": {
      "name": "python"
    }
  },
  "cells": [
    {
      "cell_type": "markdown",
      "metadata": {
        "id": "view-in-github",
        "colab_type": "text"
      },
      "source": [
        "<a href=\"https://colab.research.google.com/github/2303A510F7/Datamining/blob/main/ADMLABEXAM_01.ipynb\" target=\"_parent\"><img src=\"https://colab.research.google.com/assets/colab-badge.svg\" alt=\"Open In Colab\"/></a>"
      ]
    },
    {
      "cell_type": "code",
      "execution_count": 4,
      "metadata": {
        "colab": {
          "base_uri": "https://localhost:8080/"
        },
        "id": "icCqbms-xHqS",
        "outputId": "4ca63ea5-d077-4d0f-e561-4846522c07a5"
      },
      "outputs": [
        {
          "output_type": "stream",
          "name": "stdout",
          "text": [
            "Original DataFrame:\n",
            "    A   B  C\n",
            "0  1  10  a\n",
            "1  2  20  b\n",
            "2  2  20  c\n",
            "3  4  40  d\n",
            "4  5  50  e\n",
            "5  5  50  d\n",
            "\n",
            "DataFrame after removing duplicates:\n",
            "    A   B  C\n",
            "0  1  10  a\n",
            "1  2  20  b\n",
            "2  2  20  c\n",
            "3  4  40  d\n",
            "4  5  50  e\n",
            "5  5  50  d\n"
          ]
        }
      ],
      "source": [
        "import pandas as pd\n",
        "data = {\n",
        "    'A': [1, 2, 2, 4, 5, 5],\n",
        "    'B': [10, 20, 20, 40, 50, 50],\n",
        "    'C': ['a', 'b', 'c', 'd', 'e', 'd']\n",
        "}\n",
        "df = pd.DataFrame(data)\n",
        "print(\"Original DataFrame:\\n\", df)\n",
        "df_unique= df.drop_duplicates()\n",
        "print(\"\\nDataFrame after removing duplicates:\\n\", df_unique)"
      ]
    },
    {
      "cell_type": "code",
      "source": [],
      "metadata": {
        "id": "bQj0nqV91JBy"
      },
      "execution_count": null,
      "outputs": []
    }
  ]
}
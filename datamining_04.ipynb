{
  "nbformat": 4,
  "nbformat_minor": 0,
  "metadata": {
    "colab": {
      "provenance": [],
      "authorship_tag": "ABX9TyPWMuC8p2zd4e0kYZw4A759",
      "include_colab_link": true
    },
    "kernelspec": {
      "name": "python3",
      "display_name": "Python 3"
    },
    "language_info": {
      "name": "python"
    }
  },
  "cells": [
    {
      "cell_type": "markdown",
      "metadata": {
        "id": "view-in-github",
        "colab_type": "text"
      },
      "source": [
        "<a href=\"https://colab.research.google.com/github/2303A510F7/Datamining/blob/main/datamining_04.ipynb\" target=\"_parent\"><img src=\"https://colab.research.google.com/assets/colab-badge.svg\" alt=\"Open In Colab\"/></a>"
      ]
    },
    {
      "cell_type": "code",
      "execution_count": 4,
      "metadata": {
        "id": "my98J0naXUq9"
      },
      "outputs": [],
      "source": [
        "import numpy as np\n",
        "import pandas as pd\n",
        "import matplotlib.pyplot as plt\n",
        "import seaborn as sns"
      ]
    },
    {
      "cell_type": "code",
      "source": [
        "#Create a synthetic dataset\n",
        "from scipy import stats\n",
        "np.random.seed(42)\n",
        "data = np.random.normal(0, 1, 100)\n",
        "outliers = np.random.uniform(5, 10, 5)\n",
        "data_with_outliers = np.concatenate([data, outliers])"
      ],
      "metadata": {
        "id": "AodWBFfKdpRp"
      },
      "execution_count": 6,
      "outputs": []
    },
    {
      "cell_type": "code",
      "source": [
        "# Convert to DataFrame\n",
        "df = pd.DataFrame(data_with_outliers, columns=['Value'])"
      ],
      "metadata": {
        "id": "15SHVENgipsC"
      },
      "execution_count": 8,
      "outputs": []
    },
    {
      "cell_type": "code",
      "source": [
        "# Step 1: Detect Outliers using IQR method\n",
        "Q1 = df['Value'].quantile(0.25)\n",
        "Q3 = df['Value'].quantile(0.75)\n",
        "IQR = Q3 - Q1\n",
        "lower_bound = Q1 - 1.5 * IQR\n",
        "upper_bound = Q3 + 1.5 * IQR\n",
        "# Identifying outliers based on IQR\n",
        "outliers_iqr = df[(df['Value'] < lower_bound) | (df['Value'] >\n",
        "upper_bound)]"
      ],
      "metadata": {
        "id": "9N0GfcWAi4ZN"
      },
      "execution_count": 9,
      "outputs": []
    },
    {
      "cell_type": "code",
      "source": [
        "# Step 2: Detect Outliers using Z-Score method\n",
        "z_scores = stats.zscore(df['Value'])\n",
        "outliers_zscore = df[np.abs(z_scores) > 3]"
      ],
      "metadata": {
        "id": "t1sr4AY7jFbF"
      },
      "execution_count": 10,
      "outputs": []
    },
    {
      "cell_type": "code",
      "source": [
        "# Step 3: Visualize outliers using a boxplot\n",
        "plt.figure(figsize=(8, 6))\n",
        "sns.boxplot(x=df['Value'])\n",
        "plt.title(\"Boxplot for Outlier Detection\")\n",
        "plt.show()"
      ],
      "metadata": {
        "colab": {
          "base_uri": "https://localhost:8080/",
          "height": 564
        },
        "id": "icuEiVLMi_p8",
        "outputId": "630b69db-42c1-4dc5-ebcf-3124ff31ff38"
      },
      "execution_count": 11,
      "outputs": [
        {
          "output_type": "display_data",
          "data": {
            "text/plain": [
              "<Figure size 800x600 with 1 Axes>"
            ],
            "image/png": "[encoded data removed]"
          },
          "metadata": {}
        }
      ]
    },
    {
      "cell_type": "code",
      "source": [
        "# Step 4: Handle Outliers\n",
        "# Capping: Set outliers to the upper and lower bounds\n",
        "df_capped = df.copy()\n",
        "df_capped['Value'] = np.clip(df_capped['Value'], lower_bound, upper_bound)"
      ],
      "metadata": {
        "id": "_WStCJtsi8Ee"
      },
      "execution_count": null,
      "outputs": []
    },
    {
      "cell_type": "code",
      "source": [
        "# Removal: Drop rows with outliers\n",
        "df_removed = df.copy()\n",
        "df_removed = df_removed[(df_removed['Value'] >= lower_bound) &\n",
        "(df_removed['Value'] <= upper_bound)]"
      ],
      "metadata": {
        "id": "kcW4RzCWi5Kt"
      },
      "execution_count": null,
      "outputs": []
    },
    {
      "cell_type": "code",
      "source": [
        "# Imputation: Replace outliers with the median\n",
        "df_imputed = df.copy()\n",
        "median_value = df['Value'].median()\n",
        "df_imputed['Value'] = np.where((df_imputed['Value'] < lower_bound) |\n",
        "(df_imputed['Value'] > upper_bound), median_value, df_imputed['Value'])"
      ],
      "metadata": {
        "id": "4BsK-Ssjjea1"
      },
      "execution_count": null,
      "outputs": []
    },
    {
      "cell_type": "code",
      "source": [
        "# Step 5: Visualize handled data\n",
        "# Capped data\n",
        "plt.figure(figsize=(8, 6))\n",
        "sns.boxplot(x=df_capped['Value'])\n",
        "plt.title(\"Capped Outliers\")\n",
        "plt.show()"
      ],
      "metadata": {
        "id": "SH9ZL-ftjhaK"
      },
      "execution_count": null,
      "outputs": []
    },
    {
      "cell_type": "code",
      "source": [
        "# Removed data\n",
        "plt.figure(figsize=(8, 6))\n",
        "sns.boxplot(x=df_removed['Value'])\n",
        "plt.title(\"Removed Outliers\")\n",
        "plt.show()"
      ],
      "metadata": {
        "id": "NQbxUwcMjj0y"
      },
      "execution_count": null,
      "outputs": []
    },
    {
      "cell_type": "code",
      "source": [
        "# Imputed data\n",
        "plt.figure(figsize=(8, 6))\n",
        "sns.boxplot(x=df_imputed['Value'])\n",
        "plt.title(\"Imputed Outliers\")\n",
        "plt.show()"
      ],
      "metadata": {
        "id": "rEYHGsRtjmA4"
      },
      "execution_count": null,
      "outputs": []
    },
    {
      "cell_type": "code",
      "source": [
        "# Print outliers detected\n",
        "print(f\"Outliers detected using IQR:\\n{outliers_iqr}\")\n",
        "print(f\"Outliers detected using Z-Score:\\n{outliers_zscore}\")"
      ],
      "metadata": {
        "id": "k4GS_gG_jsze"
      },
      "execution_count": null,
      "outputs": []
    }
  ]
}